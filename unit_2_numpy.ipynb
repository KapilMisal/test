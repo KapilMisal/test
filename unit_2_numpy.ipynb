{
 "cells": [
  {
   "cell_type": "code",
   "execution_count": 4,
   "id": "02d38d07",
   "metadata": {},
   "outputs": [],
   "source": [
    "import numpy as np"
   ]
  },
  {
   "cell_type": "code",
   "execution_count": 5,
   "id": "2710da5e",
   "metadata": {},
   "outputs": [
    {
     "data": {
      "text/plain": [
       "1"
      ]
     },
     "execution_count": 5,
     "metadata": {},
     "output_type": "execute_result"
    }
   ],
   "source": [
    "np.amin([10,3,2,7,10,1])"
   ]
  },
  {
   "cell_type": "code",
   "execution_count": 6,
   "id": "a2e4542c",
   "metadata": {},
   "outputs": [
    {
     "data": {
      "text/plain": [
       "10"
      ]
     },
     "execution_count": 6,
     "metadata": {},
     "output_type": "execute_result"
    }
   ],
   "source": [
    "np.amax([10,3,2,7,10,1])"
   ]
  },
  {
   "cell_type": "code",
   "execution_count": 7,
   "id": "13ce3459",
   "metadata": {},
   "outputs": [
    {
     "data": {
      "text/plain": [
       "5.5"
      ]
     },
     "execution_count": 7,
     "metadata": {},
     "output_type": "execute_result"
    }
   ],
   "source": [
    "np.mean([10,3,2,7,10,1])"
   ]
  },
  {
   "cell_type": "code",
   "execution_count": 8,
   "id": "b020053b",
   "metadata": {},
   "outputs": [
    {
     "data": {
      "text/plain": [
       "5.0"
      ]
     },
     "execution_count": 8,
     "metadata": {},
     "output_type": "execute_result"
    }
   ],
   "source": [
    "np.median([10,3,2,7,10,1])"
   ]
  },
  {
   "cell_type": "code",
   "execution_count": 10,
   "id": "2e7c12dc",
   "metadata": {},
   "outputs": [
    {
     "data": {
      "text/plain": [
       "3.685557397915997"
      ]
     },
     "execution_count": 10,
     "metadata": {},
     "output_type": "execute_result"
    }
   ],
   "source": [
    "np.std([10,3,2,7,10,1])"
   ]
  },
  {
   "cell_type": "code",
   "execution_count": 11,
   "id": "5d4e2274",
   "metadata": {},
   "outputs": [
    {
     "data": {
      "text/plain": [
       "13.583333333333334"
      ]
     },
     "execution_count": 11,
     "metadata": {},
     "output_type": "execute_result"
    }
   ],
   "source": [
    "np.var([10,3,2,7,10,1])"
   ]
  },
  {
   "cell_type": "code",
   "execution_count": 12,
   "id": "11b1f4d5",
   "metadata": {},
   "outputs": [
    {
     "data": {
      "text/plain": [
       "array([0, 1, 2, 3, 4, 5, 6, 7, 8, 9])"
      ]
     },
     "execution_count": 12,
     "metadata": {},
     "output_type": "execute_result"
    }
   ],
   "source": [
    "np.arange(0,10,1)"
   ]
  },
  {
   "cell_type": "code",
   "execution_count": 13,
   "id": "c2f44a2d",
   "metadata": {},
   "outputs": [
    {
     "data": {
      "text/plain": [
       "array([ 1,  2,  3,  7, 10, 10])"
      ]
     },
     "execution_count": 13,
     "metadata": {},
     "output_type": "execute_result"
    }
   ],
   "source": [
    "np.sort([10,3,2,7,10,1])"
   ]
  },
  {
   "cell_type": "code",
   "execution_count": 14,
   "id": "64e84ffb",
   "metadata": {},
   "outputs": [
    {
     "data": {
      "text/plain": [
       "array([0., 0., 0., 0., 0.])"
      ]
     },
     "execution_count": 14,
     "metadata": {},
     "output_type": "execute_result"
    }
   ],
   "source": [
    "np.zeros(5)"
   ]
  },
  {
   "cell_type": "code",
   "execution_count": 15,
   "id": "2e946a1e",
   "metadata": {},
   "outputs": [
    {
     "data": {
      "text/plain": [
       "array([1., 1., 1., 1., 1.])"
      ]
     },
     "execution_count": 15,
     "metadata": {},
     "output_type": "execute_result"
    }
   ],
   "source": [
    "np.ones(5)"
   ]
  },
  {
   "cell_type": "code",
   "execution_count": 16,
   "id": "5afd641e",
   "metadata": {},
   "outputs": [
    {
     "data": {
      "text/plain": [
       "array([[1., 0., 0.],\n",
       "       [0., 1., 0.],\n",
       "       [0., 0., 1.]])"
      ]
     },
     "execution_count": 16,
     "metadata": {},
     "output_type": "execute_result"
    }
   ],
   "source": [
    "np.eye(3)"
   ]
  },
  {
   "cell_type": "code",
   "execution_count": 17,
   "id": "2b587178",
   "metadata": {},
   "outputs": [
    {
     "data": {
      "text/plain": [
       "array([5., 5., 5., 5., 5.])"
      ]
     },
     "execution_count": 17,
     "metadata": {},
     "output_type": "execute_result"
    }
   ],
   "source": [
    "np.ones(5)*5"
   ]
  },
  {
   "cell_type": "code",
   "execution_count": 18,
   "id": "c0e2a9dc",
   "metadata": {},
   "outputs": [
    {
     "data": {
      "text/plain": [
       "array([5., 5., 5., 5., 5.])"
      ]
     },
     "execution_count": 18,
     "metadata": {},
     "output_type": "execute_result"
    }
   ],
   "source": [
    "np.zeros(5)+5"
   ]
  },
  {
   "cell_type": "code",
   "execution_count": 21,
   "id": "62cfe09b",
   "metadata": {},
   "outputs": [
    {
     "data": {
      "text/plain": [
       "array([[0, 1, 2],\n",
       "       [3, 4, 5],\n",
       "       [6, 7, 8]])"
      ]
     },
     "execution_count": 21,
     "metadata": {},
     "output_type": "execute_result"
    }
   ],
   "source": [
    "d=np.arange(0,9,1)\n",
    "d.reshape(3,3)"
   ]
  },
  {
   "cell_type": "code",
   "execution_count": 22,
   "id": "9aaf2ef9",
   "metadata": {},
   "outputs": [
    {
     "data": {
      "text/plain": [
       "array([0.35870508])"
      ]
     },
     "execution_count": 22,
     "metadata": {},
     "output_type": "execute_result"
    }
   ],
   "source": [
    "np.random.rand(1)"
   ]
  },
  {
   "cell_type": "code",
   "execution_count": 23,
   "id": "f640cd96",
   "metadata": {},
   "outputs": [
    {
     "data": {
      "text/plain": [
       "array([ 2.58788276,  0.33529962, -2.05102035,  1.22373834,  1.8107988 ,\n",
       "       -0.7261058 , -1.36632689,  0.76078014, -0.95733761,  0.71622274,\n",
       "        2.47779149,  1.87803394,  0.76540436, -0.91899013, -1.86469318,\n",
       "        0.13684271,  1.42520948,  0.52011961,  0.07076034,  0.27106642,\n",
       "        0.93756615, -0.84151843,  2.15169845,  0.36723834,  0.58045518])"
      ]
     },
     "execution_count": 23,
     "metadata": {},
     "output_type": "execute_result"
    }
   ],
   "source": [
    "np.random.randn(25)"
   ]
  },
  {
   "cell_type": "code",
   "execution_count": 25,
   "id": "d23d81f9",
   "metadata": {},
   "outputs": [
    {
     "data": {
      "text/plain": [
       "array([[0.13123414, 0.28463679, 0.94503403, 0.09429907, 0.37475174],\n",
       "       [0.45030726, 0.76638635, 0.77756287, 0.02776795, 0.79977094],\n",
       "       [0.95433073, 0.65736152, 0.59287312, 0.70699094, 0.50076582],\n",
       "       [0.89401337, 0.08596124, 0.98310344, 0.65585381, 0.17737879],\n",
       "       [0.65068879, 0.50639097, 0.71307475, 0.70614808, 0.07970007]])"
      ]
     },
     "execution_count": 25,
     "metadata": {},
     "output_type": "execute_result"
    }
   ],
   "source": [
    "np.random.rand(25).reshape(5,5)"
   ]
  },
  {
   "cell_type": "code",
   "execution_count": 30,
   "id": "393e958a",
   "metadata": {},
   "outputs": [],
   "source": [
    "z=np.linspace(0,100,20)"
   ]
  },
  {
   "cell_type": "code",
   "execution_count": 31,
   "id": "86ee51c0",
   "metadata": {},
   "outputs": [
    {
     "data": {
      "text/plain": [
       "array([  0.        ,   5.26315789,  10.52631579,  15.78947368,\n",
       "        21.05263158,  26.31578947,  31.57894737,  36.84210526,\n",
       "        42.10526316,  47.36842105,  52.63157895,  57.89473684,\n",
       "        63.15789474,  68.42105263,  73.68421053,  78.94736842,\n",
       "        84.21052632,  89.47368421,  94.73684211, 100.        ])"
      ]
     },
     "execution_count": 31,
     "metadata": {},
     "output_type": "execute_result"
    }
   ],
   "source": [
    "z"
   ]
  },
  {
   "cell_type": "code",
   "execution_count": 32,
   "id": "dc632985",
   "metadata": {},
   "outputs": [],
   "source": [
    "sd=np.arange(1,26).reshape(5,5)"
   ]
  },
  {
   "cell_type": "code",
   "execution_count": 33,
   "id": "7339af0f",
   "metadata": {},
   "outputs": [
    {
     "data": {
      "text/plain": [
       "array([[ 1,  2,  3,  4,  5],\n",
       "       [ 6,  7,  8,  9, 10],\n",
       "       [11, 12, 13, 14, 15],\n",
       "       [16, 17, 18, 19, 20],\n",
       "       [21, 22, 23, 24, 25]])"
      ]
     },
     "execution_count": 33,
     "metadata": {},
     "output_type": "execute_result"
    }
   ],
   "source": [
    "sd"
   ]
  },
  {
   "cell_type": "code",
   "execution_count": 34,
   "id": "bda57621",
   "metadata": {},
   "outputs": [
    {
     "data": {
      "text/plain": [
       "array([[ 1,  2,  3,  4,  5],\n",
       "       [ 6,  7,  8,  9, 10],\n",
       "       [11, 12, 13, 14, 15]])"
      ]
     },
     "execution_count": 34,
     "metadata": {},
     "output_type": "execute_result"
    }
   ],
   "source": [
    "sd[0:3]"
   ]
  },
  {
   "cell_type": "code",
   "execution_count": 36,
   "id": "e8ad8af9",
   "metadata": {},
   "outputs": [
    {
     "data": {
      "text/plain": [
       "array([ 4,  9, 14, 19, 24])"
      ]
     },
     "execution_count": 36,
     "metadata": {},
     "output_type": "execute_result"
    }
   ],
   "source": [
    "sd[0:,3]"
   ]
  },
  {
   "cell_type": "code",
   "execution_count": 37,
   "id": "4f02f69f",
   "metadata": {},
   "outputs": [
    {
     "data": {
      "text/plain": [
       "array([[ 1,  2,  3,  4,  5],\n",
       "       [ 6,  7,  8,  9, 10],\n",
       "       [11, 12, 13, 14, 15],\n",
       "       [16, 17, 18, 19, 20],\n",
       "       [21, 22, 23, 24, 25]])"
      ]
     },
     "execution_count": 37,
     "metadata": {},
     "output_type": "execute_result"
    }
   ],
   "source": [
    "sd"
   ]
  },
  {
   "cell_type": "code",
   "execution_count": 38,
   "id": "d70ee09d",
   "metadata": {},
   "outputs": [
    {
     "data": {
      "text/plain": [
       "9"
      ]
     },
     "execution_count": 38,
     "metadata": {},
     "output_type": "execute_result"
    }
   ],
   "source": [
    "sd[1,3]"
   ]
  },
  {
   "cell_type": "code",
   "execution_count": 39,
   "id": "8cd0182f",
   "metadata": {},
   "outputs": [
    {
     "data": {
      "text/plain": [
       "5"
      ]
     },
     "execution_count": 39,
     "metadata": {},
     "output_type": "execute_result"
    }
   ],
   "source": [
    "len(sd)"
   ]
  },
  {
   "cell_type": "code",
   "execution_count": 40,
   "id": "e73a5fcc",
   "metadata": {},
   "outputs": [
    {
     "data": {
      "text/plain": [
       "array([[ 1,  2,  3,  4,  5],\n",
       "       [11, 12, 13, 14, 15],\n",
       "       [21, 22, 23, 24, 25]])"
      ]
     },
     "execution_count": 40,
     "metadata": {},
     "output_type": "execute_result"
    }
   ],
   "source": [
    "sd[::2,:]"
   ]
  },
  {
   "cell_type": "code",
   "execution_count": 41,
   "id": "b923bcd0",
   "metadata": {},
   "outputs": [
    {
     "data": {
      "text/plain": [
       "array([[ 2,  5],\n",
       "       [ 7, 10],\n",
       "       [12, 15],\n",
       "       [17, 20],\n",
       "       [22, 25]])"
      ]
     },
     "execution_count": 41,
     "metadata": {},
     "output_type": "execute_result"
    }
   ],
   "source": [
    "sd[:,[1,4]]"
   ]
  },
  {
   "cell_type": "code",
   "execution_count": 42,
   "id": "1ca42072",
   "metadata": {},
   "outputs": [
    {
     "data": {
      "text/plain": [
       "array([[ 1,  2,  3,  4,  5],\n",
       "       [ 6,  7,  8,  9, 10],\n",
       "       [11, 12, 13, 14, 15],\n",
       "       [16, 17, 18, 19, 20],\n",
       "       [21, 22, 23, 24, 25]])"
      ]
     },
     "execution_count": 42,
     "metadata": {},
     "output_type": "execute_result"
    }
   ],
   "source": [
    "sd"
   ]
  },
  {
   "cell_type": "code",
   "execution_count": 43,
   "id": "30afbdf2",
   "metadata": {},
   "outputs": [
    {
     "data": {
      "text/plain": [
       "array([ 4,  5,  6,  7,  8,  9, 10, 11, 12, 13, 14, 15, 16, 17, 18, 19, 20,\n",
       "       21, 22, 23, 24, 25])"
      ]
     },
     "execution_count": 43,
     "metadata": {},
     "output_type": "execute_result"
    }
   ],
   "source": [
    "sd[sd>3]"
   ]
  },
  {
   "cell_type": "code",
   "execution_count": 46,
   "id": "20e050eb",
   "metadata": {},
   "outputs": [],
   "source": [
    "b_arr=sd>4"
   ]
  },
  {
   "cell_type": "code",
   "execution_count": 47,
   "id": "5de81050",
   "metadata": {},
   "outputs": [
    {
     "data": {
      "text/plain": [
       "array([ 5,  6,  7,  8,  9, 10, 11, 12, 13, 14, 15, 16, 17, 18, 19, 20, 21,\n",
       "       22, 23, 24, 25])"
      ]
     },
     "execution_count": 47,
     "metadata": {},
     "output_type": "execute_result"
    }
   ],
   "source": [
    "sd[b_arr]"
   ]
  },
  {
   "cell_type": "code",
   "execution_count": 50,
   "id": "925df120",
   "metadata": {},
   "outputs": [
    {
     "data": {
      "text/plain": [
       "array([[  0., 100.,  78., 342.],\n",
       "       [  1.,  11.,  62., 191.],\n",
       "       [  2.,   8.,  85., 252.],\n",
       "       [  3.,  71.,  24., 307.],\n",
       "       [  4., 104.,  17., 229.],\n",
       "       [  5.,  18., 104., 246.],\n",
       "       [  6.,   8.,  76., 226.],\n",
       "       [  7.,  86.,  74., 288.],\n",
       "       [  8.,  12.,  60., 216.],\n",
       "       [  9.,  25.,  90., 304.],\n",
       "       [ 10.,  56.,   6., 272.],\n",
       "       [ 11.,  88.,  69., 302.],\n",
       "       [ 12., 147.,  65., 312.],\n",
       "       [ 13., 121., 146., 370.],\n",
       "       [ 14.,  99., 110., 362.]])"
      ]
     },
     "execution_count": 50,
     "metadata": {},
     "output_type": "execute_result"
    }
   ],
   "source": [
    "crid_data=np.loadtxt(\"cric_data.tsv\",skiprows=1)\n",
    "crid_data\n"
   ]
  },
  {
   "cell_type": "code",
   "execution_count": 52,
   "id": "90f39b79",
   "metadata": {},
   "outputs": [],
   "source": [
    "sachin=crid_data[:,1]\n",
    "dravid=crid_data[:,2]"
   ]
  },
  {
   "cell_type": "code",
   "execution_count": 53,
   "id": "60040c86",
   "metadata": {},
   "outputs": [
    {
     "data": {
      "text/plain": [
       "array([100.,  11.,   8.,  71., 104.,  18.,   8.,  86.,  12.,  25.,  56.,\n",
       "        88., 147., 121.,  99.])"
      ]
     },
     "execution_count": 53,
     "metadata": {},
     "output_type": "execute_result"
    }
   ],
   "source": [
    "sachin"
   ]
  },
  {
   "cell_type": "code",
   "execution_count": 54,
   "id": "c8a18206",
   "metadata": {},
   "outputs": [
    {
     "data": {
      "text/plain": [
       "array([ 78.,  62.,  85.,  24.,  17., 104.,  76.,  74.,  60.,  90.,   6.,\n",
       "        69.,  65., 146., 110.])"
      ]
     },
     "execution_count": 54,
     "metadata": {},
     "output_type": "execute_result"
    }
   ],
   "source": [
    "dravid"
   ]
  },
  {
   "cell_type": "code",
   "execution_count": null,
   "id": "aa8ebbf8",
   "metadata": {},
   "outputs": [],
   "source": []
  }
 ],
 "metadata": {
  "kernelspec": {
   "display_name": "Python 3 (ipykernel)",
   "language": "python",
   "name": "python3"
  },
  "language_info": {
   "codemirror_mode": {
    "name": "ipython",
    "version": 3
   },
   "file_extension": ".py",
   "mimetype": "text/x-python",
   "name": "python",
   "nbconvert_exporter": "python",
   "pygments_lexer": "ipython3",
   "version": "3.9.12"
  }
 },
 "nbformat": 4,
 "nbformat_minor": 5
}
